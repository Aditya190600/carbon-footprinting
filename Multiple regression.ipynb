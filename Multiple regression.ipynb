{
 "cells": [
  {
   "cell_type": "code",
   "execution_count": 78,
   "metadata": {},
   "outputs": [],
   "source": [
    "import numpy as np\n",
    "import pandas as pd\n",
    "import matplotlib.pyplot as plt\n",
    "import seaborn as sns\n",
    "%matplotlib inline\n",
    "pd.set_option('display.max_rows', 200)\n",
    "pd.set_option('display.max_columns', 200)\n",
    "plt.style.use('ggplot')\n"
   ]
  },
  {
   "cell_type": "code",
   "execution_count": 144,
   "metadata": {},
   "outputs": [],
   "source": [
    "from sklearn.linear_model import LinearRegression\n",
    "from sklearn.model_selection import train_test_split\n",
    "from sklearn.metrics import mean_squared_error, r2_score"
   ]
  },
  {
   "cell_type": "code",
   "execution_count": 132,
   "metadata": {},
   "outputs": [],
   "source": [
    "df = pd.read_csv(r'C:\\Users\\Preetha Ghosh\\Desktop\\Mopitt.csv')"
   ]
  },
  {
   "cell_type": "code",
   "execution_count": 81,
   "metadata": {},
   "outputs": [
    {
     "data": {
      "text/html": [
       "<div>\n",
       "<style scoped>\n",
       "    .dataframe tbody tr th:only-of-type {\n",
       "        vertical-align: middle;\n",
       "    }\n",
       "\n",
       "    .dataframe tbody tr th {\n",
       "        vertical-align: top;\n",
       "    }\n",
       "\n",
       "    .dataframe thead th {\n",
       "        text-align: right;\n",
       "    }\n",
       "</style>\n",
       "<table border=\"1\" class=\"dataframe\">\n",
       "  <thead>\n",
       "    <tr style=\"text-align: right;\">\n",
       "      <th></th>\n",
       "      <th>Latitude</th>\n",
       "      <th>Longitude</th>\n",
       "      <th>RetrievedSurfaceTemperature</th>\n",
       "      <th>COTotalColumn</th>\n",
       "    </tr>\n",
       "  </thead>\n",
       "  <tbody>\n",
       "    <tr>\n",
       "      <th>0</th>\n",
       "      <td>-30.5682</td>\n",
       "      <td>149.126</td>\n",
       "      <td>324.259</td>\n",
       "      <td>2.020000e+18</td>\n",
       "    </tr>\n",
       "    <tr>\n",
       "      <th>1</th>\n",
       "      <td>-30.1267</td>\n",
       "      <td>149.225</td>\n",
       "      <td>330.001</td>\n",
       "      <td>2.040000e+18</td>\n",
       "    </tr>\n",
       "    <tr>\n",
       "      <th>2</th>\n",
       "      <td>-29.9055</td>\n",
       "      <td>149.274</td>\n",
       "      <td>330.100</td>\n",
       "      <td>1.900000e+18</td>\n",
       "    </tr>\n",
       "    <tr>\n",
       "      <th>3</th>\n",
       "      <td>-30.6806</td>\n",
       "      <td>149.666</td>\n",
       "      <td>325.250</td>\n",
       "      <td>1.950000e+18</td>\n",
       "    </tr>\n",
       "    <tr>\n",
       "      <th>4</th>\n",
       "      <td>-30.4660</td>\n",
       "      <td>149.713</td>\n",
       "      <td>324.436</td>\n",
       "      <td>1.820000e+18</td>\n",
       "    </tr>\n",
       "  </tbody>\n",
       "</table>\n",
       "</div>"
      ],
      "text/plain": [
       "    Latitude   Longitude  RetrievedSurfaceTemperature    COTotalColumn\n",
       "0   -30.5682     149.126                       324.259    2.020000e+18\n",
       "1   -30.1267     149.225                       330.001    2.040000e+18\n",
       "2   -29.9055     149.274                       330.100    1.900000e+18\n",
       "3   -30.6806     149.666                       325.250    1.950000e+18\n",
       "4   -30.4660     149.713                       324.436    1.820000e+18"
      ]
     },
     "execution_count": 81,
     "metadata": {},
     "output_type": "execute_result"
    }
   ],
   "source": [
    "df.head()"
   ]
  },
  {
   "cell_type": "code",
   "execution_count": 82,
   "metadata": {},
   "outputs": [
    {
     "data": {
      "text/plain": [
       "<bound method DataFrame.info of          Latitude   Longitude  RetrievedSurfaceTemperature    COTotalColumn\n",
       "0        -30.5682    149.1260                       324.259    2.020000e+18\n",
       "1        -30.1267    149.2250                       330.001    2.040000e+18\n",
       "2        -29.9055    149.2740                       330.100    1.900000e+18\n",
       "3        -30.6806    149.6660                       325.250    1.950000e+18\n",
       "4        -30.4660    149.7130                       324.436    1.820000e+18\n",
       "...           ...         ...                           ...             ...\n",
       "228312    43.1370    -25.8634                       287.214    1.930000e+18\n",
       "228313    43.1947    -25.5363                       286.587    1.950000e+18\n",
       "228314    43.5884    -26.2866                       286.910    2.070000e+18\n",
       "228315    43.3749    -26.2392                       286.800    2.070000e+18\n",
       "228316    43.1610    -26.1921                       287.051    2.010000e+18\n",
       "\n",
       "[228317 rows x 4 columns]>"
      ]
     },
     "execution_count": 82,
     "metadata": {},
     "output_type": "execute_result"
    }
   ],
   "source": [
    "df.info"
   ]
  },
  {
   "cell_type": "code",
   "execution_count": 83,
   "metadata": {},
   "outputs": [
    {
     "data": {
      "text/plain": [
       "(228317, 4)"
      ]
     },
     "execution_count": 83,
     "metadata": {},
     "output_type": "execute_result"
    }
   ],
   "source": [
    "df.shape"
   ]
  },
  {
   "cell_type": "code",
   "execution_count": 90,
   "metadata": {},
   "outputs": [
    {
     "data": {
      "text/plain": [
       "[' Latitude', ' Longitude', 'RetrievedSurfaceTemperature ', ' COTotalColumn']"
      ]
     },
     "execution_count": 90,
     "metadata": {},
     "output_type": "execute_result"
    }
   ],
   "source": [
    "list(df.columns.values)"
   ]
  },
  {
   "cell_type": "code",
   "execution_count": 136,
   "metadata": {},
   "outputs": [],
   "source": [
    "y = df[' COTotalColumn']\n",
    "X = df.drop(['RetrievedSurfaceTemperature ',' COTotalColumn'], axis = 1)"
   ]
  },
  {
   "cell_type": "code",
   "execution_count": 137,
   "metadata": {},
   "outputs": [
    {
     "data": {
      "text/html": [
       "<div>\n",
       "<style scoped>\n",
       "    .dataframe tbody tr th:only-of-type {\n",
       "        vertical-align: middle;\n",
       "    }\n",
       "\n",
       "    .dataframe tbody tr th {\n",
       "        vertical-align: top;\n",
       "    }\n",
       "\n",
       "    .dataframe thead th {\n",
       "        text-align: right;\n",
       "    }\n",
       "</style>\n",
       "<table border=\"1\" class=\"dataframe\">\n",
       "  <thead>\n",
       "    <tr style=\"text-align: right;\">\n",
       "      <th></th>\n",
       "      <th>Latitude</th>\n",
       "      <th>Longitude</th>\n",
       "    </tr>\n",
       "  </thead>\n",
       "  <tbody>\n",
       "    <tr>\n",
       "      <th>0</th>\n",
       "      <td>-30.5682</td>\n",
       "      <td>149.1260</td>\n",
       "    </tr>\n",
       "    <tr>\n",
       "      <th>1</th>\n",
       "      <td>-30.1267</td>\n",
       "      <td>149.2250</td>\n",
       "    </tr>\n",
       "    <tr>\n",
       "      <th>2</th>\n",
       "      <td>-29.9055</td>\n",
       "      <td>149.2740</td>\n",
       "    </tr>\n",
       "    <tr>\n",
       "      <th>3</th>\n",
       "      <td>-30.6806</td>\n",
       "      <td>149.6660</td>\n",
       "    </tr>\n",
       "    <tr>\n",
       "      <th>4</th>\n",
       "      <td>-30.4660</td>\n",
       "      <td>149.7130</td>\n",
       "    </tr>\n",
       "    <tr>\n",
       "      <th>...</th>\n",
       "      <td>...</td>\n",
       "      <td>...</td>\n",
       "    </tr>\n",
       "    <tr>\n",
       "      <th>228312</th>\n",
       "      <td>43.1370</td>\n",
       "      <td>-25.8634</td>\n",
       "    </tr>\n",
       "    <tr>\n",
       "      <th>228313</th>\n",
       "      <td>43.1947</td>\n",
       "      <td>-25.5363</td>\n",
       "    </tr>\n",
       "    <tr>\n",
       "      <th>228314</th>\n",
       "      <td>43.5884</td>\n",
       "      <td>-26.2866</td>\n",
       "    </tr>\n",
       "    <tr>\n",
       "      <th>228315</th>\n",
       "      <td>43.3749</td>\n",
       "      <td>-26.2392</td>\n",
       "    </tr>\n",
       "    <tr>\n",
       "      <th>228316</th>\n",
       "      <td>43.1610</td>\n",
       "      <td>-26.1921</td>\n",
       "    </tr>\n",
       "  </tbody>\n",
       "</table>\n",
       "<p>228317 rows × 2 columns</p>\n",
       "</div>"
      ],
      "text/plain": [
       "         Latitude   Longitude\n",
       "0        -30.5682    149.1260\n",
       "1        -30.1267    149.2250\n",
       "2        -29.9055    149.2740\n",
       "3        -30.6806    149.6660\n",
       "4        -30.4660    149.7130\n",
       "...           ...         ...\n",
       "228312    43.1370    -25.8634\n",
       "228313    43.1947    -25.5363\n",
       "228314    43.5884    -26.2866\n",
       "228315    43.3749    -26.2392\n",
       "228316    43.1610    -26.1921\n",
       "\n",
       "[228317 rows x 2 columns]"
      ]
     },
     "execution_count": 137,
     "metadata": {},
     "output_type": "execute_result"
    }
   ],
   "source": [
    "X"
   ]
  },
  {
   "cell_type": "code",
   "execution_count": 138,
   "metadata": {},
   "outputs": [
    {
     "data": {
      "text/plain": [
       "0         2.020000e+18\n",
       "1         2.040000e+18\n",
       "2         1.900000e+18\n",
       "3         1.950000e+18\n",
       "4         1.820000e+18\n",
       "              ...     \n",
       "228312    1.930000e+18\n",
       "228313    1.950000e+18\n",
       "228314    2.070000e+18\n",
       "228315    2.070000e+18\n",
       "228316    2.010000e+18\n",
       "Name:  COTotalColumn, Length: 228317, dtype: float64"
      ]
     },
     "execution_count": 138,
     "metadata": {},
     "output_type": "execute_result"
    }
   ],
   "source": [
    "y"
   ]
  },
  {
   "cell_type": "code",
   "execution_count": 139,
   "metadata": {},
   "outputs": [],
   "source": [
    "X_train, X_test, y_train, y_test = train_test_split(X, y, test_size = 0.2, random_state=9)"
   ]
  },
  {
   "cell_type": "code",
   "execution_count": 140,
   "metadata": {},
   "outputs": [],
   "source": [
    "lin_reg_mod = LinearRegression()"
   ]
  },
  {
   "cell_type": "code",
   "execution_count": 141,
   "metadata": {},
   "outputs": [
    {
     "data": {
      "text/plain": [
       "LinearRegression(copy_X=True, fit_intercept=True, n_jobs=None, normalize=False)"
      ]
     },
     "execution_count": 141,
     "metadata": {},
     "output_type": "execute_result"
    }
   ],
   "source": [
    "lin_reg_mod.fit(X_train, y_train)"
   ]
  },
  {
   "cell_type": "code",
   "execution_count": 142,
   "metadata": {},
   "outputs": [],
   "source": [
    "pred = lin_reg_mod.predict(X_test)"
   ]
  },
  {
   "cell_type": "code",
   "execution_count": 143,
   "metadata": {},
   "outputs": [
    {
     "name": "stdout",
     "output_type": "stream",
     "text": [
      "158855    1.440000e+18\n",
      "58098     1.440000e+18\n",
      "42468     2.080000e+18\n",
      "1173      1.040000e+18\n",
      "89317     2.080000e+18\n",
      "66060     1.390000e+18\n",
      "71603     1.270000e+18\n",
      "78393     1.800000e+18\n",
      "94596     9.740000e+17\n",
      "115631    1.860000e+18\n",
      "144654    2.500000e+18\n",
      "6900      1.410000e+18\n",
      "150373    1.740000e+18\n",
      "118384    2.090000e+18\n",
      "180357    1.800000e+18\n",
      "Name:  COTotalColumn, dtype: float64 [1.50611728e+18 1.59176730e+18 2.33178962e+18 1.11896674e+18\n",
      " 2.33529605e+18 1.39105135e+18 1.47096414e+18 1.68702300e+18\n",
      " 9.77698013e+17 1.86309072e+18 1.71848917e+18 1.34139120e+18\n",
      " 1.74987050e+18 2.35018395e+18 1.86299745e+18]\n"
     ]
    }
   ],
   "source": [
    "print(y_test[:15],pred[:15])"
   ]
  },
  {
   "cell_type": "code",
   "execution_count": 133,
   "metadata": {},
   "outputs": [],
   "source": [
    "test_set_rmse = (np.sqrt(mean_squared_error(y_test, pred)))\n",
    "test_set_r2 = r2_score(y_test, pred)"
   ]
  },
  {
   "cell_type": "code",
   "execution_count": 134,
   "metadata": {},
   "outputs": [
    {
     "data": {
      "text/plain": [
       "3.747950358101053e+17"
      ]
     },
     "execution_count": 134,
     "metadata": {},
     "output_type": "execute_result"
    }
   ],
   "source": [
    "test_set_rmse"
   ]
  },
  {
   "cell_type": "code",
   "execution_count": 135,
   "metadata": {},
   "outputs": [
    {
     "data": {
      "text/plain": [
       "0.6285336658680047"
      ]
     },
     "execution_count": 135,
     "metadata": {},
     "output_type": "execute_result"
    }
   ],
   "source": [
    "test_set_r2"
   ]
  },
  {
   "cell_type": "code",
   "execution_count": null,
   "metadata": {},
   "outputs": [],
   "source": []
  }
 ],
 "metadata": {
  "kernelspec": {
   "display_name": "Python 3",
   "language": "python",
   "name": "python3"
  },
  "language_info": {
   "codemirror_mode": {
    "name": "ipython",
    "version": 3
   },
   "file_extension": ".py",
   "mimetype": "text/x-python",
   "name": "python",
   "nbconvert_exporter": "python",
   "pygments_lexer": "ipython3",
   "version": "3.7.3"
  }
 },
 "nbformat": 4,
 "nbformat_minor": 4
}
