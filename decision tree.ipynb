{
 "cells": [
  {
   "cell_type": "code",
   "execution_count": 100,
   "metadata": {},
   "outputs": [],
   "source": [
    "import numpy as np\n",
    "import pandas as pd\n",
    "import matplotlib.pyplot as plt\n",
    "import seaborn as sns\n",
    "%matplotlib inline\n",
    "pd.set_option('display.max_rows', 200)\n",
    "pd.set_option('display.max_columns', 200)\n",
    "plt.style.use('ggplot')\n"
   ]
  },
  {
   "cell_type": "code",
   "execution_count": 101,
   "metadata": {},
   "outputs": [],
   "source": [
    "from sklearn.tree import DecisionTreeClassifier\n",
    "from sklearn.model_selection import train_test_split\n",
    "from sklearn.model_selection import GridSearchCV\n",
    "from sklearn.feature_selection import SelectFromModel\n",
    "from sklearn.metrics import classification_report\n",
    "from sklearn.metrics import confusion_matrix\n",
    "from sklearn.metrics import accuracy_score\n",
    "from sklearn.metrics import roc_curve, auc"
   ]
  },
  {
   "cell_type": "code",
   "execution_count": 115,
   "metadata": {},
   "outputs": [],
   "source": [
    "df = pd.read_csv(r'C:\\Users\\Preetha Ghosh\\Desktop\\Mopitt.csv')"
   ]
  },
  {
   "cell_type": "code",
   "execution_count": 116,
   "metadata": {},
   "outputs": [
    {
     "data": {
      "text/html": [
       "<div>\n",
       "<style scoped>\n",
       "    .dataframe tbody tr th:only-of-type {\n",
       "        vertical-align: middle;\n",
       "    }\n",
       "\n",
       "    .dataframe tbody tr th {\n",
       "        vertical-align: top;\n",
       "    }\n",
       "\n",
       "    .dataframe thead th {\n",
       "        text-align: right;\n",
       "    }\n",
       "</style>\n",
       "<table border=\"1\" class=\"dataframe\">\n",
       "  <thead>\n",
       "    <tr style=\"text-align: right;\">\n",
       "      <th></th>\n",
       "      <th># Latitude</th>\n",
       "      <th>Longitude</th>\n",
       "      <th>RetrievedSurfaceTemperature</th>\n",
       "      <th>COTotalColumn</th>\n",
       "    </tr>\n",
       "  </thead>\n",
       "  <tbody>\n",
       "    <tr>\n",
       "      <th>0</th>\n",
       "      <td>-77.7472</td>\n",
       "      <td>43.1307</td>\n",
       "      <td>205.592</td>\n",
       "      <td>8.270000e+17</td>\n",
       "    </tr>\n",
       "    <tr>\n",
       "      <th>1</th>\n",
       "      <td>-77.8375</td>\n",
       "      <td>44.1249</td>\n",
       "      <td>205.339</td>\n",
       "      <td>8.200000e+17</td>\n",
       "    </tr>\n",
       "    <tr>\n",
       "      <th>2</th>\n",
       "      <td>-77.9242</td>\n",
       "      <td>45.1334</td>\n",
       "      <td>205.950</td>\n",
       "      <td>6.830000e+17</td>\n",
       "    </tr>\n",
       "    <tr>\n",
       "      <th>3</th>\n",
       "      <td>-78.0073</td>\n",
       "      <td>46.1582</td>\n",
       "      <td>206.171</td>\n",
       "      <td>6.220000e+17</td>\n",
       "    </tr>\n",
       "    <tr>\n",
       "      <th>4</th>\n",
       "      <td>-78.1851</td>\n",
       "      <td>42.0651</td>\n",
       "      <td>204.809</td>\n",
       "      <td>7.600000e+17</td>\n",
       "    </tr>\n",
       "  </tbody>\n",
       "</table>\n",
       "</div>"
      ],
      "text/plain": [
       "   # Latitude   Longitude  RetrievedSurfaceTemperature    COTotalColumn\n",
       "0    -77.7472     43.1307                       205.592    8.270000e+17\n",
       "1    -77.8375     44.1249                       205.339    8.200000e+17\n",
       "2    -77.9242     45.1334                       205.950    6.830000e+17\n",
       "3    -78.0073     46.1582                       206.171    6.220000e+17\n",
       "4    -78.1851     42.0651                       204.809    7.600000e+17"
      ]
     },
     "execution_count": 116,
     "metadata": {},
     "output_type": "execute_result"
    }
   ],
   "source": [
    "df.head()"
   ]
  },
  {
   "cell_type": "code",
   "execution_count": 117,
   "metadata": {},
   "outputs": [
    {
     "data": {
      "text/plain": [
       "<bound method DataFrame.info of         # Latitude   Longitude  RetrievedSurfaceTemperature    COTotalColumn\n",
       "0         -77.7472     43.1307                       205.592    8.270000e+17\n",
       "1         -77.8375     44.1249                       205.339    8.200000e+17\n",
       "2         -77.9242     45.1334                       205.950    6.830000e+17\n",
       "3         -78.0073     46.1582                       206.171    6.220000e+17\n",
       "4         -78.1851     42.0651                       204.809    7.600000e+17\n",
       "...            ...         ...                           ...             ...\n",
       "240725     62.2902    175.7190                       256.627    2.070000e+18\n",
       "240726     61.8260    174.4450                       266.554    1.660000e+18\n",
       "240727     62.0171    174.5830                       259.455    1.900000e+18\n",
       "240728     62.2078    174.7240                       258.108    1.960000e+18\n",
       "240729     62.3987    174.8670                       255.769    1.930000e+18\n",
       "\n",
       "[240730 rows x 4 columns]>"
      ]
     },
     "execution_count": 117,
     "metadata": {},
     "output_type": "execute_result"
    }
   ],
   "source": [
    "df.info"
   ]
  },
  {
   "cell_type": "code",
   "execution_count": 118,
   "metadata": {},
   "outputs": [
    {
     "data": {
      "text/plain": [
       "(240730, 4)"
      ]
     },
     "execution_count": 118,
     "metadata": {},
     "output_type": "execute_result"
    }
   ],
   "source": [
    "df.shape"
   ]
  },
  {
   "cell_type": "code",
   "execution_count": 119,
   "metadata": {},
   "outputs": [
    {
     "data": {
      "text/plain": [
       "['# Latitude', ' Longitude', 'RetrievedSurfaceTemperature ', ' COTotalColumn']"
      ]
     },
     "execution_count": 119,
     "metadata": {},
     "output_type": "execute_result"
    }
   ],
   "source": [
    "list(df.columns.values)"
   ]
  },
  {
   "cell_type": "code",
   "execution_count": 120,
   "metadata": {},
   "outputs": [],
   "source": [
    "y = df[' COTotalColumn']\n",
    "X = df.drop(['RetrievedSurfaceTemperature ',' COTotalColumn'], axis = 1)"
   ]
  },
  {
   "cell_type": "code",
   "execution_count": 121,
   "metadata": {},
   "outputs": [
    {
     "data": {
      "text/html": [
       "<div>\n",
       "<style scoped>\n",
       "    .dataframe tbody tr th:only-of-type {\n",
       "        vertical-align: middle;\n",
       "    }\n",
       "\n",
       "    .dataframe tbody tr th {\n",
       "        vertical-align: top;\n",
       "    }\n",
       "\n",
       "    .dataframe thead th {\n",
       "        text-align: right;\n",
       "    }\n",
       "</style>\n",
       "<table border=\"1\" class=\"dataframe\">\n",
       "  <thead>\n",
       "    <tr style=\"text-align: right;\">\n",
       "      <th></th>\n",
       "      <th># Latitude</th>\n",
       "      <th>Longitude</th>\n",
       "    </tr>\n",
       "  </thead>\n",
       "  <tbody>\n",
       "    <tr>\n",
       "      <th>0</th>\n",
       "      <td>-77.7472</td>\n",
       "      <td>43.1307</td>\n",
       "    </tr>\n",
       "    <tr>\n",
       "      <th>1</th>\n",
       "      <td>-77.8375</td>\n",
       "      <td>44.1249</td>\n",
       "    </tr>\n",
       "    <tr>\n",
       "      <th>2</th>\n",
       "      <td>-77.9242</td>\n",
       "      <td>45.1334</td>\n",
       "    </tr>\n",
       "    <tr>\n",
       "      <th>3</th>\n",
       "      <td>-78.0073</td>\n",
       "      <td>46.1582</td>\n",
       "    </tr>\n",
       "    <tr>\n",
       "      <th>4</th>\n",
       "      <td>-78.1851</td>\n",
       "      <td>42.0651</td>\n",
       "    </tr>\n",
       "    <tr>\n",
       "      <th>...</th>\n",
       "      <td>...</td>\n",
       "      <td>...</td>\n",
       "    </tr>\n",
       "    <tr>\n",
       "      <th>240725</th>\n",
       "      <td>62.2902</td>\n",
       "      <td>175.7190</td>\n",
       "    </tr>\n",
       "    <tr>\n",
       "      <th>240726</th>\n",
       "      <td>61.8260</td>\n",
       "      <td>174.4450</td>\n",
       "    </tr>\n",
       "    <tr>\n",
       "      <th>240727</th>\n",
       "      <td>62.0171</td>\n",
       "      <td>174.5830</td>\n",
       "    </tr>\n",
       "    <tr>\n",
       "      <th>240728</th>\n",
       "      <td>62.2078</td>\n",
       "      <td>174.7240</td>\n",
       "    </tr>\n",
       "    <tr>\n",
       "      <th>240729</th>\n",
       "      <td>62.3987</td>\n",
       "      <td>174.8670</td>\n",
       "    </tr>\n",
       "  </tbody>\n",
       "</table>\n",
       "<p>240730 rows × 2 columns</p>\n",
       "</div>"
      ],
      "text/plain": [
       "        # Latitude   Longitude\n",
       "0         -77.7472     43.1307\n",
       "1         -77.8375     44.1249\n",
       "2         -77.9242     45.1334\n",
       "3         -78.0073     46.1582\n",
       "4         -78.1851     42.0651\n",
       "...            ...         ...\n",
       "240725     62.2902    175.7190\n",
       "240726     61.8260    174.4450\n",
       "240727     62.0171    174.5830\n",
       "240728     62.2078    174.7240\n",
       "240729     62.3987    174.8670\n",
       "\n",
       "[240730 rows x 2 columns]"
      ]
     },
     "execution_count": 121,
     "metadata": {},
     "output_type": "execute_result"
    }
   ],
   "source": [
    "X"
   ]
  },
  {
   "cell_type": "code",
   "execution_count": 122,
   "metadata": {},
   "outputs": [
    {
     "data": {
      "text/plain": [
       "0         8.270000e+17\n",
       "1         8.200000e+17\n",
       "2         6.830000e+17\n",
       "3         6.220000e+17\n",
       "4         7.600000e+17\n",
       "              ...     \n",
       "240725    2.070000e+18\n",
       "240726    1.660000e+18\n",
       "240727    1.900000e+18\n",
       "240728    1.960000e+18\n",
       "240729    1.930000e+18\n",
       "Name:  COTotalColumn, Length: 240730, dtype: float64"
      ]
     },
     "execution_count": 122,
     "metadata": {},
     "output_type": "execute_result"
    }
   ],
   "source": [
    "y"
   ]
  },
  {
   "cell_type": "code",
   "execution_count": 123,
   "metadata": {},
   "outputs": [
    {
     "name": "stdout",
     "output_type": "stream",
     "text": [
      "1.589332247746309e+18\n"
     ]
    }
   ],
   "source": [
    "avg_y = df[' COTotalColumn'].mean()\n",
    "print(avg_y)"
   ]
  },
  {
   "cell_type": "code",
   "execution_count": 124,
   "metadata": {},
   "outputs": [],
   "source": [
    "# for i in range(len(y)):\n",
    "#     if y[i] < avg_y:\n",
    "#         y[i] = 0\n",
    "#     else:\n",
    "#         y[i] = 1\n",
    "y = np.where(y<avg_y, 0,1)"
   ]
  },
  {
   "cell_type": "code",
   "execution_count": 125,
   "metadata": {},
   "outputs": [
    {
     "data": {
      "text/plain": [
       "124685"
      ]
     },
     "execution_count": 125,
     "metadata": {},
     "output_type": "execute_result"
    }
   ],
   "source": [
    "np.count_nonzero(y)"
   ]
  },
  {
   "cell_type": "code",
   "execution_count": 127,
   "metadata": {},
   "outputs": [],
   "source": [
    "X_train, X_test, y_train, y_test = train_test_split(X, y, test_size=0.2, random_state=21, stratify=y)"
   ]
  },
  {
   "cell_type": "code",
   "execution_count": 129,
   "metadata": {},
   "outputs": [
    {
     "name": "stdout",
     "output_type": "stream",
     "text": [
      "[Decision Tree -- entropy] accuracy_score: 0.945.\n",
      "[Decision Tree -- gini] accuracy_score: 0.951.\n"
     ]
    }
   ],
   "source": [
    "# Decision tree algorithm\n",
    "accuracy_lst=[]\n",
    "\n",
    "# Instantiate dt_entropy, set 'entropy' as the information criterion\n",
    "dt_entropy = DecisionTreeClassifier(max_depth=8, criterion='entropy', random_state=1)\n",
    "\n",
    "\n",
    "# Fit dt_entropy to the training set\n",
    "dt_entropy.fit(X_train, y_train)\n",
    "\n",
    "# Use dt_entropy to predict test set labels\n",
    "y_pred= dt_entropy.predict(X_test)\n",
    "\n",
    "# Evaluate accuracy_entropy\n",
    "accuracy_entropy = accuracy_score(y_test, y_pred)\n",
    "\n",
    "\n",
    "# Print accuracy_entropy\n",
    "print('[Decision Tree -- entropy] accuracy_score: {:.3f}.'.format(accuracy_entropy))\n",
    "\n",
    "\n",
    "\n",
    "# Instantiate dt_gini, set 'gini' as the information criterion\n",
    "dt_gini = DecisionTreeClassifier(max_depth=8, criterion='gini', random_state=1)\n",
    "\n",
    "\n",
    "# Fit dt_entropy to the training set\n",
    "dt_gini.fit(X_train, y_train)\n",
    "\n",
    "# Use dt_entropy to predict test set labels\n",
    "y_pred= dt_gini.predict(X_test)\n",
    "\n",
    "# Evaluate accuracy_entropy\n",
    "accuracy_gini = accuracy_score(y_test, y_pred)\n",
    "\n",
    "# Append to the accuracy list\n",
    "acc=accuracy_gini\n",
    "accuracy_lst.append(acc)\n",
    "\n",
    "# Print accuracy_gini\n",
    "print('[Decision Tree -- gini] accuracy_score: {:.3f}.'.format(accuracy_gini))\n"
   ]
  },
  {
   "cell_type": "code",
   "execution_count": null,
   "metadata": {},
   "outputs": [],
   "source": []
  }
 ],
 "metadata": {
  "kernelspec": {
   "display_name": "Python 3",
   "language": "python",
   "name": "python3"
  },
  "language_info": {
   "codemirror_mode": {
    "name": "ipython",
    "version": 3
   },
   "file_extension": ".py",
   "mimetype": "text/x-python",
   "name": "python",
   "nbconvert_exporter": "python",
   "pygments_lexer": "ipython3",
   "version": "3.7.3"
  }
 },
 "nbformat": 4,
 "nbformat_minor": 4
}
